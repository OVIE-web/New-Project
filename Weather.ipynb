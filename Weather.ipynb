{
  "nbformat": 4,
  "nbformat_minor": 0,
  "metadata": {
    "colab": {
      "provenance": [],
      "authorship_tag": "ABX9TyMn4ur+FE0VjrwYotCeEtdP",
      "include_colab_link": true
    },
    "kernelspec": {
      "name": "python3",
      "display_name": "Python 3"
    },
    "language_info": {
      "name": "python"
    }
  },
  "cells": [
    {
      "cell_type": "markdown",
      "metadata": {
        "id": "view-in-github",
        "colab_type": "text"
      },
      "source": [
        "<a href=\"https://colab.research.google.com/github/OVIE-web/New-Project/blob/main/Weather.ipynb\" target=\"_parent\"><img src=\"https://colab.research.google.com/assets/colab-badge.svg\" alt=\"Open In Colab\"/></a>"
      ]
    },
    {
      "cell_type": "code",
      "source": [
        "import requests\n",
        "\n",
        "# Function to get weather data\n",
        "def get_weather(city, api_key):\n",
        "    try:\n",
        "        base_url = f\"http://api.openweathermap.org/data/2.5/weather?q={city}&appid={api_key}&units=metric\"\n",
        "        response = requests.get(base_url)\n",
        "        response.raise_for_status()  # Raise an error for bad responses\n",
        "        data = response.json()\n",
        "        if data[\"cod\"] != 200:\n",
        "            return None, data[\"message\"]  # Return error message\n",
        "        return data, None\n",
        "    except requests.exceptions.RequestException as e:\n",
        "        return None, f\"Failed to fetch weather data: {e}\"\n",
        "\n",
        "# Function to display weather information\n",
        "def show_weather():\n",
        "    city_name = input(\"Enter the city name: \")\n",
        "    api_key = \"eb9fb5b5cd49a8c5ac2f493f74b60e07\"  # Replace with your OpenWeatherMap API key\n",
        "\n",
        "    if not city_name:\n",
        "        print(\"Please enter a valid city name.\")\n",
        "        return\n",
        "\n",
        "    weather_data, error = get_weather(city_name, api_key)\n",
        "\n",
        "    if error:\n",
        "        print(f\"Error: {error}\")\n",
        "        return\n",
        "\n",
        "    if weather_data:\n",
        "        main = weather_data[\"main\"]\n",
        "        temp = main[\"temp\"]\n",
        "        humidity = main[\"humidity\"]\n",
        "        pressure = main[\"pressure\"]\n",
        "        weather_desc = weather_data[\"weather\"][0][\"description\"]\n",
        "        weather_info = f\"\"\"\n",
        "        City: {city_name}\n",
        "        Temperature: {temp}°C\n",
        "        Pressure: {pressure} hPa\n",
        "        Humidity: {humidity}%\n",
        "        Description: {weather_desc}\n",
        "        \"\"\"\n",
        "        print(weather_info)\n",
        "    else:\n",
        "        print(\"City not found or API error.\")\n",
        "\n",
        "# Run the CLI\n",
        "if __name__ == \"__main__\":\n",
        "    show_weather()\n"
      ],
      "metadata": {
        "colab": {
          "base_uri": "https://localhost:8080/"
        },
        "id": "Lx-onWKsegb3",
        "outputId": "389bf854-28c0-43fe-f079-f0125251af90"
      },
      "execution_count": 22,
      "outputs": [
        {
          "output_type": "stream",
          "name": "stdout",
          "text": [
            "Enter the city name: New Delhi\n",
            "\n",
            "        City: New Delhi\n",
            "        Temperature: 15.09°C\n",
            "        Pressure: 1017 hPa\n",
            "        Humidity: 63%\n",
            "        Description: haze\n",
            "        \n"
          ]
        }
      ]
    }
  ]
}