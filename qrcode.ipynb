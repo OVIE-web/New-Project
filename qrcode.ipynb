{
  "nbformat": 4,
  "nbformat_minor": 0,
  "metadata": {
    "colab": {
      "provenance": [],
      "mount_file_id": "1IP4c_vYiY4s-qm15ynHG6cHb7ECSn5UE",
      "authorship_tag": "ABX9TyNK7PKYpLrtMtjhecs58nPK",
      "include_colab_link": true
    },
    "kernelspec": {
      "name": "python3",
      "display_name": "Python 3"
    },
    "language_info": {
      "name": "python"
    }
  },
  "cells": [
    {
      "cell_type": "markdown",
      "metadata": {
        "id": "view-in-github",
        "colab_type": "text"
      },
      "source": [
        "<a href=\"https://colab.research.google.com/github/OVIE-web/New-Project/blob/main/qrcode.ipynb\" target=\"_parent\"><img src=\"https://colab.research.google.com/assets/colab-badge.svg\" alt=\"Open In Colab\"/></a>"
      ]
    },
    {
      "cell_type": "code",
      "execution_count": null,
      "metadata": {
        "colab": {
          "base_uri": "https://localhost:8080/"
        },
        "id": "K69z2ugaww-m",
        "outputId": "d93c2a16-a578-48ad-b331-8ade43ab0821"
      },
      "outputs": [
        {
          "output_type": "stream",
          "name": "stdout",
          "text": [
            "Collecting qrcode\n",
            "  Downloading qrcode-8.0-py3-none-any.whl.metadata (17 kB)\n",
            "Downloading qrcode-8.0-py3-none-any.whl (45 kB)\n",
            "\u001b[?25l   \u001b[90m━━━━━━━━━━━━━━━━━━━━━━━━━━━━━━━━━━━━━━━━\u001b[0m \u001b[32m0.0/45.7 kB\u001b[0m \u001b[31m?\u001b[0m eta \u001b[36m-:--:--\u001b[0m\r\u001b[2K   \u001b[90m━━━━━━━━━━━━━━━━━━━━━━━━━━━━━━━━━━━━━━━━\u001b[0m \u001b[32m45.7/45.7 kB\u001b[0m \u001b[31m1.6 MB/s\u001b[0m eta \u001b[36m0:00:00\u001b[0m\n",
            "\u001b[?25hInstalling collected packages: qrcode\n",
            "Successfully installed qrcode-8.0\n"
          ]
        }
      ],
      "source": [
        "!pip install qrcode"
      ]
    },
    {
      "source": [
        "import qrcode\n",
        "\n",
        "# Creating an instance of QRCode class\n",
        "qr = qrcode.QRCode(version=1,\n",
        "                   error_correction=qrcode.constants.ERROR_CORRECT_L,\n",
        "                   box_size=50,\n",
        "                   border=5)\n",
        "\n",
        "# Data to encode\n",
        "qr.add_data(\"https://www.youtube.com/@OviemSaniyo1212\")\n",
        "\n",
        "# Generate the QR code pattern\n",
        "qr.make(fit=True)\n",
        "\n",
        "# Creating an image from the QR Code instance\n",
        "img = qr.make_image(fill_color=\"red\", back_color=\"white\")\n",
        "\n",
        "# Save the image to a file\n",
        "img.save('MyQRCode2.png')"
      ],
      "cell_type": "code",
      "metadata": {
        "id": "1W669aQsFMMN"
      },
      "execution_count": 20,
      "outputs": []
    }
  ]
}