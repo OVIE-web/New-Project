{
  "nbformat": 4,
  "nbformat_minor": 0,
  "metadata": {
    "colab": {
      "provenance": [],
      "authorship_tag": "ABX9TyP7+y/fXhE+9Mx6yy5xTrd9",
      "include_colab_link": true
    },
    "kernelspec": {
      "name": "python3",
      "display_name": "Python 3"
    },
    "language_info": {
      "name": "python"
    }
  },
  "cells": [
    {
      "cell_type": "markdown",
      "metadata": {
        "id": "view-in-github",
        "colab_type": "text"
      },
      "source": [
        "<a href=\"https://colab.research.google.com/github/OVIE-web/New-Project/blob/main/Barcode.ipynb\" target=\"_parent\"><img src=\"https://colab.research.google.com/assets/colab-badge.svg\" alt=\"Open In Colab\"/></a>"
      ]
    },
    {
      "cell_type": "code",
      "execution_count": 2,
      "metadata": {
        "colab": {
          "base_uri": "https://localhost:8080/"
        },
        "id": "cpgU2ko64pao",
        "outputId": "809ff206-9e29-4624-ef35-3abdbdaebb92"
      },
      "outputs": [
        {
          "output_type": "stream",
          "name": "stdout",
          "text": [
            "Collecting python-barcode\n",
            "  Downloading python_barcode-0.15.1-py3-none-any.whl.metadata (2.3 kB)\n",
            "Downloading python_barcode-0.15.1-py3-none-any.whl (212 kB)\n",
            "\u001b[2K   \u001b[90m━━━━━━━━━━━━━━━━━━━━━━━━━━━━━━━━━━━━━━━━\u001b[0m \u001b[32m213.0/213.0 kB\u001b[0m \u001b[31m4.0 MB/s\u001b[0m eta \u001b[36m0:00:00\u001b[0m\n",
            "\u001b[?25hInstalling collected packages: python-barcode\n",
            "Successfully installed python-barcode-0.15.1\n"
          ]
        }
      ],
      "source": [
        "!pip install python-barcode"
      ]
    },
    {
      "source": [
        "import barcode\n",
        "from barcode.writer import ImageWriter\n",
        "from IPython.display import Image, display\n",
        "\n",
        "# Get the barcode class\n",
        "barcode_format = barcode.get_barcode_class('ean13')\n",
        "\n",
        "# Barcode number (ensure it's a valid EAN-13 number)\n",
        "barcode_number = '4579684039246'\n",
        "\n",
        "# Create the barcode object with the ImageWriter\n",
        "barcode_image = barcode_format(barcode_number, writer=ImageWriter())\n",
        "\n",
        "# Define the filename\n",
        "barcode_filename = 'barcode_image'\n",
        "\n",
        "# Save the barcode image\n",
        "barcode_image.save(barcode_filename)\n",
        "\n",
        "# Display the generated barcode image\n",
        "display(Image(filename=f'{barcode_filename}.png'))\n"
      ],
      "cell_type": "code",
      "metadata": {
        "colab": {
          "base_uri": "https://localhost:8080/",
          "height": 297
        },
        "id": "hwhKhsid8ZZS",
        "outputId": "1c8c8965-d4e1-4855-f998-65b18ebde005"
      },
      "execution_count": 6,
      "outputs": [
        {
          "output_type": "display_data",
          "data": {
            "image/png": "[encoded data removed]",
            "text/plain": [
              "<IPython.core.display.Image object>"
            ]
          },
          "metadata": {}
        }
      ]
    }
  ]
}